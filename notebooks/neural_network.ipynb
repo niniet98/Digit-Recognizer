{
 "cells": [
  {
   "cell_type": "markdown",
   "metadata": {},
   "source": [
    "#### Imports"
   ]
  },
  {
   "cell_type": "code",
   "execution_count": 80,
   "metadata": {},
   "outputs": [],
   "source": [
    "import pandas as pd\n",
    "import numpy as np\n",
    "\n",
    "import matplotlib.pyplot as plt\n",
    "import matplotlib.image as mpimg\n",
    "import seaborn as sns\n",
    "sns.set(style='white', context='notebook', palette='deep')\n",
    "%matplotlib inline\n",
    "\n",
    "from sklearn.model_selection import train_test_split\n",
    "from sklearn.metrics import confusion_matrix\n",
    "import itertools\n",
    "\n",
    "from keras.models import Sequential\n",
    "from keras.layers import Dense, Dropout, Flatten, Conv2D, MaxPool2D\n",
    "from keras.optimizers import RMSprop\n",
    "from keras.preprocessing.image import ImageDataGenerator\n",
    "from keras.callbacks import ReduceLROnPlateau"
   ]
  },
  {
   "cell_type": "markdown",
   "metadata": {},
   "source": [
    "#### Data preparation"
   ]
  },
  {
   "cell_type": "markdown",
   "metadata": {},
   "source": [
    "    1. Load data"
   ]
  },
  {
   "cell_type": "code",
   "execution_count": 64,
   "metadata": {},
   "outputs": [],
   "source": [
    "train = pd.read_csv('../data/train.csv')\n",
    "test = pd.read_csv('../data/test.csv')"
   ]
  },
  {
   "cell_type": "code",
   "execution_count": 65,
   "metadata": {},
   "outputs": [
    {
     "data": {
      "text/html": [
       "<div>\n",
       "<style scoped>\n",
       "    .dataframe tbody tr th:only-of-type {\n",
       "        vertical-align: middle;\n",
       "    }\n",
       "\n",
       "    .dataframe tbody tr th {\n",
       "        vertical-align: top;\n",
       "    }\n",
       "\n",
       "    .dataframe thead th {\n",
       "        text-align: right;\n",
       "    }\n",
       "</style>\n",
       "<table border=\"1\" class=\"dataframe\">\n",
       "  <thead>\n",
       "    <tr style=\"text-align: right;\">\n",
       "      <th></th>\n",
       "      <th>label</th>\n",
       "      <th>pixel0</th>\n",
       "      <th>pixel1</th>\n",
       "      <th>pixel2</th>\n",
       "      <th>pixel3</th>\n",
       "      <th>pixel4</th>\n",
       "      <th>pixel5</th>\n",
       "      <th>pixel6</th>\n",
       "      <th>pixel7</th>\n",
       "      <th>pixel8</th>\n",
       "      <th>...</th>\n",
       "      <th>pixel774</th>\n",
       "      <th>pixel775</th>\n",
       "      <th>pixel776</th>\n",
       "      <th>pixel777</th>\n",
       "      <th>pixel778</th>\n",
       "      <th>pixel779</th>\n",
       "      <th>pixel780</th>\n",
       "      <th>pixel781</th>\n",
       "      <th>pixel782</th>\n",
       "      <th>pixel783</th>\n",
       "    </tr>\n",
       "  </thead>\n",
       "  <tbody>\n",
       "    <tr>\n",
       "      <th>30481</th>\n",
       "      <td>3</td>\n",
       "      <td>0</td>\n",
       "      <td>0</td>\n",
       "      <td>0</td>\n",
       "      <td>0</td>\n",
       "      <td>0</td>\n",
       "      <td>0</td>\n",
       "      <td>0</td>\n",
       "      <td>0</td>\n",
       "      <td>0</td>\n",
       "      <td>...</td>\n",
       "      <td>0</td>\n",
       "      <td>0</td>\n",
       "      <td>0</td>\n",
       "      <td>0</td>\n",
       "      <td>0</td>\n",
       "      <td>0</td>\n",
       "      <td>0</td>\n",
       "      <td>0</td>\n",
       "      <td>0</td>\n",
       "      <td>0</td>\n",
       "    </tr>\n",
       "  </tbody>\n",
       "</table>\n",
       "<p>1 rows × 785 columns</p>\n",
       "</div>"
      ],
      "text/plain": [
       "       label  pixel0  pixel1  pixel2  pixel3  pixel4  pixel5  pixel6  pixel7  \\\n",
       "30481      3       0       0       0       0       0       0       0       0   \n",
       "\n",
       "       pixel8  ...  pixel774  pixel775  pixel776  pixel777  pixel778  \\\n",
       "30481       0  ...         0         0         0         0         0   \n",
       "\n",
       "       pixel779  pixel780  pixel781  pixel782  pixel783  \n",
       "30481         0         0         0         0         0  \n",
       "\n",
       "[1 rows x 785 columns]"
      ]
     },
     "execution_count": 65,
     "metadata": {},
     "output_type": "execute_result"
    }
   ],
   "source": [
    "train.sample()"
   ]
  },
  {
   "cell_type": "code",
   "execution_count": 66,
   "metadata": {},
   "outputs": [],
   "source": [
    "Y_train = train['label']\n",
    "X_train = train.drop(columns=['label'])"
   ]
  },
  {
   "cell_type": "markdown",
   "metadata": {},
   "source": [
    "    2. Check for null and missing values"
   ]
  },
  {
   "cell_type": "markdown",
   "metadata": {},
   "source": [
    "Check for images with missing values."
   ]
  },
  {
   "cell_type": "code",
   "execution_count": 67,
   "metadata": {},
   "outputs": [
    {
     "data": {
      "text/plain": [
       "count       784\n",
       "unique        1\n",
       "top       False\n",
       "freq        784\n",
       "dtype: object"
      ]
     },
     "execution_count": 67,
     "metadata": {},
     "output_type": "execute_result"
    }
   ],
   "source": [
    "X_train.isnull().any().describe()"
   ]
  },
  {
   "cell_type": "code",
   "execution_count": 68,
   "metadata": {},
   "outputs": [
    {
     "data": {
      "text/plain": [
       "count       784\n",
       "unique        1\n",
       "top       False\n",
       "freq        784\n",
       "dtype: object"
      ]
     },
     "execution_count": 68,
     "metadata": {},
     "output_type": "execute_result"
    }
   ],
   "source": [
    "test.isnull().any().describe()"
   ]
  },
  {
   "cell_type": "markdown",
   "metadata": {},
   "source": [
    "There are no missing values in the train and test dataset so we can go ahead."
   ]
  },
  {
   "cell_type": "markdown",
   "metadata": {},
   "source": [
    "    3. Normalization"
   ]
  },
  {
   "cell_type": "code",
   "execution_count": 69,
   "metadata": {},
   "outputs": [],
   "source": [
    "X_train = X_train / 255\n",
    "test = test / 255"
   ]
  },
  {
   "cell_type": "markdown",
   "metadata": {},
   "source": [
    "    4. Reshape"
   ]
  },
  {
   "cell_type": "markdown",
   "metadata": {},
   "source": [
    "Reshape image in 3 dimensions (height = 28px, width = 28px , canal = 1)"
   ]
  },
  {
   "cell_type": "code",
   "execution_count": 70,
   "metadata": {},
   "outputs": [],
   "source": [
    "X_train = X_train.values.reshape(-1, 28, 28, 1)\n",
    "test = test.values.reshape(-1, 28, 28, 1)"
   ]
  },
  {
   "cell_type": "markdown",
   "metadata": {},
   "source": [
    "Tain and test images (28px x 28px) hve been stock into pandas dataframe as 1D vector of 784 values. We need to reshape the data to 28 x 28 x 1 3D matrices.\n",
    "\n",
    "Keras requires an extra dimension in the end which correspond to channels. MNIST images are gray scaled so they use only one channel. For RGB images, there are 3 channels so we would have reshaped 784px to 28 x 28 x 3 3D matrices."
   ]
  },
  {
   "cell_type": "markdown",
   "metadata": {},
   "source": [
    "    5. Label encoding"
   ]
  },
  {
   "cell_type": "markdown",
   "metadata": {},
   "source": [
    "Encode labels to one hot vectors (ex: 2 -> [0, 0, 1, 0, 0, 0, 0, 0, 0, 0])"
   ]
  },
  {
   "cell_type": "code",
   "execution_count": 71,
   "metadata": {},
   "outputs": [
    {
     "data": {
      "text/plain": [
       "0    1\n",
       "1    0\n",
       "2    1\n",
       "3    4\n",
       "4    0\n",
       "Name: label, dtype: int64"
      ]
     },
     "execution_count": 71,
     "metadata": {},
     "output_type": "execute_result"
    }
   ],
   "source": [
    "Y_train.head()"
   ]
  },
  {
   "cell_type": "code",
   "execution_count": 72,
   "metadata": {},
   "outputs": [],
   "source": [
    "from keras.utils import to_categorical\n",
    "Y_train = to_categorical(Y_train, num_classes=10)"
   ]
  },
  {
   "cell_type": "markdown",
   "metadata": {},
   "source": [
    "    6. Split training and validation set"
   ]
  },
  {
   "cell_type": "code",
   "execution_count": 76,
   "metadata": {},
   "outputs": [],
   "source": [
    "X_train, X_val, Y_train, Y_val = train_test_split(X_train, Y_train, test_size = 0.1, random_state=2)"
   ]
  },
  {
   "cell_type": "code",
   "execution_count": 81,
   "metadata": {},
   "outputs": [
    {
     "data": {
      "text/plain": [
       "<matplotlib.image.AxesImage at 0x15e7caabf50>"
      ]
     },
     "execution_count": 81,
     "metadata": {},
     "output_type": "execute_result"
    },
    {
     "data": {
      "image/png": "[encoded data removed]",
      "text/plain": [
       "<Figure size 640x480 with 1 Axes>"
      ]
     },
     "metadata": {},
     "output_type": "display_data"
    }
   ],
   "source": [
    "plt.imshow(X_train[2][:,:,0])"
   ]
  },
  {
   "cell_type": "markdown",
   "metadata": {},
   "source": [
    "#### CNN Model"
   ]
  },
  {
   "cell_type": "markdown",
   "metadata": {},
   "source": [
    "    1. Define the model"
   ]
  },
  {
   "cell_type": "markdown",
   "metadata": {},
   "source": [
    "**model.add(Conv2D(...))** adds a convolutional layer to the model.\n",
    "    \n",
    "- La convolución es una operación fundamental en el procesamiento de imágenes que permite extraer características locales.\n",
    "\n",
    "**filters=32** indica que la capa tendrá 32 filtros (también conocidos como kernels).\n",
    "\n",
    "- Cada filtro aprenderá a detectar diferentes patrones en la entrada.\n",
    "\n",
    "**kernel_size=(5,5)** expecifica el tamaño del kernel o filtro de convolución.\n",
    "\n",
    "- En este caso, el kernel es una matriz 5x5 que se desplaza sobre la entrada para realizar la convolución.\n",
    "\n",
    "**padding='Same'** controla cómo manejar el borde de la imagen.\n",
    "\n",
    "- 'Same' significa que el borde se llena con ceros para mantener el tamaño de la entrada después de la convolución.\n",
    "\n",
    "**activation='relu'** indica que se aplicará la función de activación ReLU (Rectified Linear Unit) después de realizar la convolución.\n",
    "\n",
    "- ReLU es comúnmente utilizado para introducir no linealidades en la red.\n",
    "\n",
    "**input_shape=(28,28,1)** especifica la forma de la entrada a la capa.\n",
    "\n",
    "- En este caso, se espera que la entrada sea una imagen de 28x28 píxeles con un solo canal de color (escala de grises). El 1 en la última dimension indica que hay un solo canal.\n",
    "\n",
    "**model.add(MaxPool2D(pool_size=(2,2)))**\n",
    "\n",
    "- **MaxPool2D** es una capa de reducción de muestreo o pooling en una red neuronal convolucional.\n",
    "\n",
    "- **pool_size=(2,2)** especifica el tamaño de la ventana sobre la cual se realizará el muestreo máximo. En este caso es una ventana de 2x2 píxeles.\n",
    "\n",
    "- El propósito de esta capa es reducir el tamaño espacial de la representación para disminuir la cantidad de parámetros y cálculos en la red, preservando las características más importantes aprendidas por las capas de convolución.\n",
    "\n",
    "- El muestreo máximo toma el valor máximo de cada ventana de la imagen y lo conserva, descartando el resto.\n",
    "\n",
    "**model.add(Dropout(0.25))**\n",
    "\n",
    "- **Dropout** es una técnica de regularización utilizada para reducir el sobreajuste (overfitting) en modelos de redes neuronales.\n",
    "\n",
    "- **0.25** indica la fracción de unidades de la red que se desactivarán aleatoriamente durante el entrenamiento.\n",
    "\n",
    "- Durante el entrenamiento, Dropout desactiva aleatoriamente una fracción de las neuronas de la capa anterior, lo que fuerza a la red a aprender características de manera más robusta, evitando que se especialice demasiado en ciertas características de los datos de entrenamiento.\n",
    "\n",
    "- Esto ayuda a mejorar la generalización del modelo a nuevos datos y a reducir el riesgo de sobreajuste."
   ]
  },
  {
   "cell_type": "code",
   "execution_count": 87,
   "metadata": {},
   "outputs": [
    {
     "name": "stdout",
     "output_type": "stream",
     "text": [
      "WARNING:tensorflow:From c:\\Users\\noemi\\miniconda3\\envs\\project\\Lib\\site-packages\\keras\\src\\backend.py:873: The name tf.get_default_graph is deprecated. Please use tf.compat.v1.get_default_graph instead.\n",
      "\n",
      "WARNING:tensorflow:From c:\\Users\\noemi\\miniconda3\\envs\\project\\Lib\\site-packages\\keras\\src\\layers\\pooling\\max_pooling2d.py:161: The name tf.nn.max_pool is deprecated. Please use tf.nn.max_pool2d instead.\n",
      "\n"
     ]
    }
   ],
   "source": [
    "model = Sequential()\n",
    "\n",
    "model.add(Conv2D(filters=32, kernel_size=(5,5), padding='Same', activation='relu', input_shape=(28,28,1)))\n",
    "model.add(Conv2D(filters=32, kernel_size=(5,5), padding='Same', activation='relu', input_shape=(28,28,1)))\n",
    "model.add(MaxPool2D(pool_size=(2,2)))\n",
    "model.add(Dropout(0.25))\n",
    "\n",
    "model.add(Conv2D(filters = 64, kernel_size = (3,3),padding = 'Same', activation ='relu'))\n",
    "model.add(Conv2D(filters = 64, kernel_size = (3,3),padding = 'Same', activation ='relu'))\n",
    "model.add(MaxPool2D(pool_size=(2,2), strides=(2,2)))\n",
    "model.add(Dropout(0.25))\n",
    "\n",
    "model.add(Flatten())\n",
    "model.add(Dense(256, activation = \"relu\"))\n",
    "model.add(Dropout(0.5))\n",
    "model.add(Dense(10, activation = \"softmax\"))"
   ]
  },
  {
   "cell_type": "markdown",
   "metadata": {},
   "source": [
    "    2. Set optimizer and annealer"
   ]
  },
  {
   "cell_type": "markdown",
   "metadata": {},
   "source": [
    "Once the layers added to the model, we need to set up a score function, a loss function and an optimisation algorithm.\n",
    "\n",
    "We define the loss function to measure how poorly our model performs on images with known labels. It is the error rate between the observed labels and the predicted ones. We use a specific form for categorical classifications (>2 classes) called the \"categorical_crossentropy\".\n",
    "\n",
    "The most important function is the optimizer. This function will iteratively improve parameters (filters kernel values, weights and bias of neurons ...) in order to minimise the loss.\n",
    "\n",
    "I choosed RMSprop (with default values), it is a very effective optimizer. The RMSProp update adjusts the Adagrad method in a very simple way in an attempt to reduce its aggressive, monotonically decreasing learning rate. We could also have used Stochastic Gradient Descent ('sgd') optimizer, but it is slower than RMSprop.\n",
    "\n",
    "The metric function \"accuracy\" is used is to evaluate the performance of our model. This metric function is similar to the loss function, except that the results from the metric evaluation are not used when training the model (only for evaluation)."
   ]
  },
  {
   "cell_type": "code",
   "execution_count": 89,
   "metadata": {},
   "outputs": [],
   "source": [
    "from tensorflow.keras.optimizers import RMSprop\n",
    "\n",
    "# Define the optimizer\n",
    "optimizer = RMSprop(learning_rate=0.001, rho=0.9, epsilon=1e-08)\n",
    "\n",
    "# Compile the model\n",
    "model.compile(optimizer = optimizer , loss = \"categorical_crossentropy\", metrics=[\"accuracy\"])"
   ]
  },
  {
   "cell_type": "markdown",
   "metadata": {},
   "source": [
    "more text"
   ]
  },
  {
   "cell_type": "code",
   "execution_count": 90,
   "metadata": {},
   "outputs": [],
   "source": [
    "# Set a learning rate annealer\n",
    "learning_rate_reduction = ReduceLROnPlateau(monitor='val_acc', patience=3, verbose=1, factor=0.5, min_lr=0.00001)"
   ]
  },
  {
   "cell_type": "code",
   "execution_count": 91,
   "metadata": {},
   "outputs": [],
   "source": [
    "epochs = 30 # Turn epochs to 30 to get 0.9967 accuracy\n",
    "batch_size = 86"
   ]
  },
  {
   "cell_type": "markdown",
   "metadata": {},
   "source": [
    "    3. Data augmentation"
   ]
  },
  {
   "cell_type": "markdown",
   "metadata": {},
   "source": [
    "text"
   ]
  },
  {
   "cell_type": "code",
   "execution_count": 93,
   "metadata": {},
   "outputs": [
    {
     "name": "stdout",
     "output_type": "stream",
     "text": [
      "Epoch 1/30\n",
      "440/440 [==============================] - 13s 29ms/step - loss: 0.0192 - accuracy: 0.9949 - val_loss: 0.0446 - val_accuracy: 0.9936\n",
      "Epoch 2/30\n",
      "440/440 [==============================] - 13s 30ms/step - loss: 0.0194 - accuracy: 0.9952 - val_loss: 0.0479 - val_accuracy: 0.9926\n",
      "Epoch 3/30\n",
      "440/440 [==============================] - 14s 31ms/step - loss: 0.0166 - accuracy: 0.9961 - val_loss: 0.0512 - val_accuracy: 0.9910\n",
      "Epoch 4/30\n",
      "440/440 [==============================] - 14s 31ms/step - loss: 0.0186 - accuracy: 0.9955 - val_loss: 0.0408 - val_accuracy: 0.9933\n",
      "Epoch 5/30\n",
      "440/440 [==============================] - 14s 32ms/step - loss: 0.0174 - accuracy: 0.9960 - val_loss: 0.0598 - val_accuracy: 0.9914\n",
      "Epoch 6/30\n",
      "440/440 [==============================] - 14s 32ms/step - loss: 0.0190 - accuracy: 0.9957 - val_loss: 0.0507 - val_accuracy: 0.9924\n",
      "Epoch 7/30\n",
      "440/440 [==============================] - 15s 33ms/step - loss: 0.0185 - accuracy: 0.9951 - val_loss: 0.0289 - val_accuracy: 0.9921\n",
      "Epoch 8/30\n",
      "440/440 [==============================] - 16s 36ms/step - loss: 0.0218 - accuracy: 0.9951 - val_loss: 0.0584 - val_accuracy: 0.9933\n",
      "Epoch 9/30\n",
      "440/440 [==============================] - 17s 38ms/step - loss: 0.0192 - accuracy: 0.9954 - val_loss: 0.0304 - val_accuracy: 0.9943\n",
      "Epoch 10/30\n",
      "440/440 [==============================] - 17s 38ms/step - loss: 0.0187 - accuracy: 0.9957 - val_loss: 0.0400 - val_accuracy: 0.9943\n",
      "Epoch 11/30\n",
      "440/440 [==============================] - 17s 38ms/step - loss: 0.0195 - accuracy: 0.9949 - val_loss: 0.0644 - val_accuracy: 0.9926\n",
      "Epoch 12/30\n",
      "440/440 [==============================] - 16s 37ms/step - loss: 0.0201 - accuracy: 0.9957 - val_loss: 0.0322 - val_accuracy: 0.9936\n",
      "Epoch 13/30\n",
      "440/440 [==============================] - 16s 37ms/step - loss: 0.0180 - accuracy: 0.9956 - val_loss: 0.0753 - val_accuracy: 0.9895\n",
      "Epoch 14/30\n",
      "440/440 [==============================] - 17s 38ms/step - loss: 0.0206 - accuracy: 0.9955 - val_loss: 0.0433 - val_accuracy: 0.9929\n",
      "Epoch 15/30\n",
      "440/440 [==============================] - 17s 38ms/step - loss: 0.0204 - accuracy: 0.9960 - val_loss: 0.0668 - val_accuracy: 0.9910\n",
      "Epoch 16/30\n",
      "440/440 [==============================] - 17s 38ms/step - loss: 0.0196 - accuracy: 0.9960 - val_loss: 0.0456 - val_accuracy: 0.9943\n",
      "Epoch 17/30\n",
      "440/440 [==============================] - 17s 38ms/step - loss: 0.0240 - accuracy: 0.9956 - val_loss: 0.0347 - val_accuracy: 0.9938\n",
      "Epoch 18/30\n",
      "440/440 [==============================] - 17s 38ms/step - loss: 0.0183 - accuracy: 0.9959 - val_loss: 0.0616 - val_accuracy: 0.9917\n",
      "Epoch 19/30\n",
      "440/440 [==============================] - 17s 38ms/step - loss: 0.0189 - accuracy: 0.9959 - val_loss: 0.0609 - val_accuracy: 0.9895\n",
      "Epoch 20/30\n",
      "440/440 [==============================] - 17s 38ms/step - loss: 0.0197 - accuracy: 0.9959 - val_loss: 0.0678 - val_accuracy: 0.9931\n",
      "Epoch 21/30\n",
      "440/440 [==============================] - 17s 38ms/step - loss: 0.0190 - accuracy: 0.9961 - val_loss: 0.0453 - val_accuracy: 0.9933\n",
      "Epoch 22/30\n",
      "440/440 [==============================] - 17s 38ms/step - loss: 0.0195 - accuracy: 0.9958 - val_loss: 0.0538 - val_accuracy: 0.9929\n",
      "Epoch 23/30\n",
      "440/440 [==============================] - 17s 38ms/step - loss: 0.0194 - accuracy: 0.9960 - val_loss: 0.0425 - val_accuracy: 0.9924\n",
      "Epoch 24/30\n",
      "440/440 [==============================] - 17s 38ms/step - loss: 0.0206 - accuracy: 0.9957 - val_loss: 0.0402 - val_accuracy: 0.9938\n",
      "Epoch 25/30\n",
      "440/440 [==============================] - 17s 38ms/step - loss: 0.0220 - accuracy: 0.9955 - val_loss: 0.0617 - val_accuracy: 0.9938\n",
      "Epoch 26/30\n",
      "440/440 [==============================] - 17s 38ms/step - loss: 0.0215 - accuracy: 0.9960 - val_loss: 0.0346 - val_accuracy: 0.9933\n",
      "Epoch 27/30\n",
      "440/440 [==============================] - 17s 38ms/step - loss: 0.0224 - accuracy: 0.9962 - val_loss: 0.0651 - val_accuracy: 0.9943\n",
      "Epoch 28/30\n",
      "440/440 [==============================] - 17s 38ms/step - loss: 0.0194 - accuracy: 0.9956 - val_loss: 0.0553 - val_accuracy: 0.9924\n",
      "Epoch 29/30\n",
      "440/440 [==============================] - 17s 38ms/step - loss: 0.0233 - accuracy: 0.9958 - val_loss: 0.0640 - val_accuracy: 0.9919\n",
      "Epoch 30/30\n",
      "440/440 [==============================] - 17s 38ms/step - loss: 0.0215 - accuracy: 0.9957 - val_loss: 0.0434 - val_accuracy: 0.9912\n"
     ]
    }
   ],
   "source": [
    "history = model.fit(X_train, Y_train, batch_size = batch_size, epochs = epochs, validation_data = (X_val, Y_val), verbose = 1)"
   ]
  },
  {
   "cell_type": "code",
   "execution_count": 94,
   "metadata": {},
   "outputs": [],
   "source": [
    "datagen = ImageDataGenerator(\n",
    "    featurewise_center=False,\n",
    "    samplewise_center=False,\n",
    "    featurewise_std_normalization=False,\n",
    "    samplewise_std_normalization=False,\n",
    "    zca_whitening=False,\n",
    "    rotation_range=15,\n",
    "    zoom_range=0.1,\n",
    "    height_shift_range=0.1,\n",
    "    width_shift_range=0.1,\n",
    "    horizontal_flip=False,\n",
    "    vertical_flip=False\n",
    ")\n",
    "\n",
    "datagen.fit(X_train)"
   ]
  },
  {
   "cell_type": "code",
   "execution_count": 95,
   "metadata": {},
   "outputs": [
    {
     "name": "stdout",
     "output_type": "stream",
     "text": [
      "Epoch 1/30\n"
     ]
    },
    {
     "name": "stderr",
     "output_type": "stream",
     "text": [
      "C:\\Users\\noemi\\AppData\\Local\\Temp\\ipykernel_19864\\2118646199.py:1: UserWarning: `Model.fit_generator` is deprecated and will be removed in a future version. Please use `Model.fit`, which supports generators.\n",
      "  history = model.fit_generator(datagen.flow(X_train, Y_train, batch_size=batch_size),\n"
     ]
    },
    {
     "name": "stdout",
     "output_type": "stream",
     "text": [
      "438/439 [============================>.] - ETA: 0s - loss: 0.1852 - accuracy: 0.9520WARNING:tensorflow:Learning rate reduction is conditioned on metric `val_acc` which is not available. Available metrics are: loss,accuracy,val_loss,val_accuracy,lr\n",
      "439/439 [==============================] - 14s 31ms/step - loss: 0.1849 - accuracy: 0.9520 - val_loss: 0.0440 - val_accuracy: 0.9910 - lr: 0.0010\n",
      "Epoch 2/30\n",
      "439/439 [==============================] - ETA: 0s - loss: 0.1300 - accuracy: 0.9662WARNING:tensorflow:Learning rate reduction is conditioned on metric `val_acc` which is not available. Available metrics are: loss,accuracy,val_loss,val_accuracy,lr\n",
      "439/439 [==============================] - 14s 32ms/step - loss: 0.1300 - accuracy: 0.9662 - val_loss: 0.0306 - val_accuracy: 0.9924 - lr: 0.0010\n",
      "Epoch 3/30\n",
      "439/439 [==============================] - ETA: 0s - loss: 0.1103 - accuracy: 0.9701WARNING:tensorflow:Learning rate reduction is conditioned on metric `val_acc` which is not available. Available metrics are: loss,accuracy,val_loss,val_accuracy,lr\n",
      "439/439 [==============================] - 14s 33ms/step - loss: 0.1103 - accuracy: 0.9701 - val_loss: 0.0363 - val_accuracy: 0.9912 - lr: 0.0010\n",
      "Epoch 4/30\n",
      "439/439 [==============================] - ETA: 0s - loss: 0.1050 - accuracy: 0.9734WARNING:tensorflow:Learning rate reduction is conditioned on metric `val_acc` which is not available. Available metrics are: loss,accuracy,val_loss,val_accuracy,lr\n",
      "439/439 [==============================] - 14s 32ms/step - loss: 0.1050 - accuracy: 0.9734 - val_loss: 0.0247 - val_accuracy: 0.9933 - lr: 0.0010\n",
      "Epoch 5/30\n",
      "439/439 [==============================] - ETA: 0s - loss: 0.0994 - accuracy: 0.9746WARNING:tensorflow:Learning rate reduction is conditioned on metric `val_acc` which is not available. Available metrics are: loss,accuracy,val_loss,val_accuracy,lr\n",
      "439/439 [==============================] - 15s 33ms/step - loss: 0.0994 - accuracy: 0.9746 - val_loss: 0.0399 - val_accuracy: 0.9902 - lr: 0.0010\n",
      "Epoch 6/30\n",
      "439/439 [==============================] - ETA: 0s - loss: 0.0927 - accuracy: 0.9754WARNING:tensorflow:Learning rate reduction is conditioned on metric `val_acc` which is not available. Available metrics are: loss,accuracy,val_loss,val_accuracy,lr\n",
      "439/439 [==============================] - 15s 34ms/step - loss: 0.0927 - accuracy: 0.9754 - val_loss: 0.0305 - val_accuracy: 0.9910 - lr: 0.0010\n",
      "Epoch 7/30\n",
      "439/439 [==============================] - ETA: 0s - loss: 0.0974 - accuracy: 0.9753WARNING:tensorflow:Learning rate reduction is conditioned on metric `val_acc` which is not available. Available metrics are: loss,accuracy,val_loss,val_accuracy,lr\n",
      "439/439 [==============================] - 16s 36ms/step - loss: 0.0974 - accuracy: 0.9753 - val_loss: 0.0237 - val_accuracy: 0.9938 - lr: 0.0010\n",
      "Epoch 8/30\n",
      "439/439 [==============================] - ETA: 0s - loss: 0.0934 - accuracy: 0.9761WARNING:tensorflow:Learning rate reduction is conditioned on metric `val_acc` which is not available. Available metrics are: loss,accuracy,val_loss,val_accuracy,lr\n",
      "439/439 [==============================] - 17s 38ms/step - loss: 0.0934 - accuracy: 0.9761 - val_loss: 0.0310 - val_accuracy: 0.9914 - lr: 0.0010\n",
      "Epoch 9/30\n",
      "439/439 [==============================] - ETA: 0s - loss: 0.0898 - accuracy: 0.9772WARNING:tensorflow:Learning rate reduction is conditioned on metric `val_acc` which is not available. Available metrics are: loss,accuracy,val_loss,val_accuracy,lr\n",
      "439/439 [==============================] - 17s 38ms/step - loss: 0.0898 - accuracy: 0.9772 - val_loss: 0.0342 - val_accuracy: 0.9898 - lr: 0.0010\n",
      "Epoch 10/30\n",
      "439/439 [==============================] - ETA: 0s - loss: 0.0930 - accuracy: 0.9767WARNING:tensorflow:Learning rate reduction is conditioned on metric `val_acc` which is not available. Available metrics are: loss,accuracy,val_loss,val_accuracy,lr\n",
      "439/439 [==============================] - 17s 38ms/step - loss: 0.0930 - accuracy: 0.9767 - val_loss: 0.0342 - val_accuracy: 0.9921 - lr: 0.0010\n",
      "Epoch 11/30\n",
      "439/439 [==============================] - ETA: 0s - loss: 0.0980 - accuracy: 0.9765WARNING:tensorflow:Learning rate reduction is conditioned on metric `val_acc` which is not available. Available metrics are: loss,accuracy,val_loss,val_accuracy,lr\n",
      "439/439 [==============================] - 17s 38ms/step - loss: 0.0980 - accuracy: 0.9765 - val_loss: 0.0345 - val_accuracy: 0.9902 - lr: 0.0010\n",
      "Epoch 12/30\n",
      "438/439 [============================>.] - ETA: 0s - loss: 0.0931 - accuracy: 0.9766WARNING:tensorflow:Learning rate reduction is conditioned on metric `val_acc` which is not available. Available metrics are: loss,accuracy,val_loss,val_accuracy,lr\n",
      "439/439 [==============================] - 17s 39ms/step - loss: 0.0929 - accuracy: 0.9766 - val_loss: 0.0417 - val_accuracy: 0.9893 - lr: 0.0010\n",
      "Epoch 13/30\n",
      "439/439 [==============================] - ETA: 0s - loss: 0.0932 - accuracy: 0.9769WARNING:tensorflow:Learning rate reduction is conditioned on metric `val_acc` which is not available. Available metrics are: loss,accuracy,val_loss,val_accuracy,lr\n",
      "439/439 [==============================] - 18s 40ms/step - loss: 0.0932 - accuracy: 0.9769 - val_loss: 0.0313 - val_accuracy: 0.9914 - lr: 0.0010\n",
      "Epoch 14/30\n",
      "438/439 [============================>.] - ETA: 0s - loss: 0.0927 - accuracy: 0.9776WARNING:tensorflow:Learning rate reduction is conditioned on metric `val_acc` which is not available. Available metrics are: loss,accuracy,val_loss,val_accuracy,lr\n",
      "439/439 [==============================] - 18s 41ms/step - loss: 0.0930 - accuracy: 0.9776 - val_loss: 0.0333 - val_accuracy: 0.9926 - lr: 0.0010\n",
      "Epoch 15/30\n",
      "439/439 [==============================] - ETA: 0s - loss: 0.0938 - accuracy: 0.9783WARNING:tensorflow:Learning rate reduction is conditioned on metric `val_acc` which is not available. Available metrics are: loss,accuracy,val_loss,val_accuracy,lr\n",
      "439/439 [==============================] - 19s 43ms/step - loss: 0.0938 - accuracy: 0.9783 - val_loss: 0.0320 - val_accuracy: 0.9919 - lr: 0.0010\n",
      "Epoch 16/30\n",
      "438/439 [============================>.] - ETA: 0s - loss: 0.0989 - accuracy: 0.9767WARNING:tensorflow:Learning rate reduction is conditioned on metric `val_acc` which is not available. Available metrics are: loss,accuracy,val_loss,val_accuracy,lr\n",
      "439/439 [==============================] - 18s 42ms/step - loss: 0.0988 - accuracy: 0.9768 - val_loss: 0.0314 - val_accuracy: 0.9919 - lr: 0.0010\n",
      "Epoch 17/30\n",
      "439/439 [==============================] - ETA: 0s - loss: 0.0948 - accuracy: 0.9766WARNING:tensorflow:Learning rate reduction is conditioned on metric `val_acc` which is not available. Available metrics are: loss,accuracy,val_loss,val_accuracy,lr\n",
      "439/439 [==============================] - 18s 42ms/step - loss: 0.0948 - accuracy: 0.9766 - val_loss: 0.0255 - val_accuracy: 0.9924 - lr: 0.0010\n",
      "Epoch 18/30\n",
      "438/439 [============================>.] - ETA: 0s - loss: 0.0973 - accuracy: 0.9766WARNING:tensorflow:Learning rate reduction is conditioned on metric `val_acc` which is not available. Available metrics are: loss,accuracy,val_loss,val_accuracy,lr\n",
      "439/439 [==============================] - 18s 42ms/step - loss: 0.0974 - accuracy: 0.9765 - val_loss: 0.0235 - val_accuracy: 0.9929 - lr: 0.0010\n",
      "Epoch 19/30\n",
      "438/439 [============================>.] - ETA: 0s - loss: 0.0967 - accuracy: 0.9765WARNING:tensorflow:Learning rate reduction is conditioned on metric `val_acc` which is not available. Available metrics are: loss,accuracy,val_loss,val_accuracy,lr\n",
      "439/439 [==============================] - 18s 42ms/step - loss: 0.0968 - accuracy: 0.9765 - val_loss: 0.0300 - val_accuracy: 0.9914 - lr: 0.0010\n",
      "Epoch 20/30\n",
      "438/439 [============================>.] - ETA: 0s - loss: 0.0973 - accuracy: 0.9765WARNING:tensorflow:Learning rate reduction is conditioned on metric `val_acc` which is not available. Available metrics are: loss,accuracy,val_loss,val_accuracy,lr\n",
      "439/439 [==============================] - 18s 41ms/step - loss: 0.0973 - accuracy: 0.9765 - val_loss: 0.0337 - val_accuracy: 0.9905 - lr: 0.0010\n",
      "Epoch 21/30\n",
      "438/439 [============================>.] - ETA: 0s - loss: 0.1010 - accuracy: 0.9762WARNING:tensorflow:Learning rate reduction is conditioned on metric `val_acc` which is not available. Available metrics are: loss,accuracy,val_loss,val_accuracy,lr\n",
      "439/439 [==============================] - 18s 41ms/step - loss: 0.1009 - accuracy: 0.9762 - val_loss: 0.0530 - val_accuracy: 0.9902 - lr: 0.0010\n",
      "Epoch 22/30\n",
      "438/439 [============================>.] - ETA: 0s - loss: 0.0990 - accuracy: 0.9767WARNING:tensorflow:Learning rate reduction is conditioned on metric `val_acc` which is not available. Available metrics are: loss,accuracy,val_loss,val_accuracy,lr\n",
      "439/439 [==============================] - 18s 41ms/step - loss: 0.0989 - accuracy: 0.9768 - val_loss: 0.0453 - val_accuracy: 0.9902 - lr: 0.0010\n",
      "Epoch 23/30\n",
      "438/439 [============================>.] - ETA: 0s - loss: 0.0975 - accuracy: 0.9766WARNING:tensorflow:Learning rate reduction is conditioned on metric `val_acc` which is not available. Available metrics are: loss,accuracy,val_loss,val_accuracy,lr\n",
      "439/439 [==============================] - 18s 42ms/step - loss: 0.0974 - accuracy: 0.9766 - val_loss: 0.0290 - val_accuracy: 0.9921 - lr: 0.0010\n",
      "Epoch 24/30\n",
      "438/439 [============================>.] - ETA: 0s - loss: 0.0974 - accuracy: 0.9771WARNING:tensorflow:Learning rate reduction is conditioned on metric `val_acc` which is not available. Available metrics are: loss,accuracy,val_loss,val_accuracy,lr\n",
      "439/439 [==============================] - 18s 42ms/step - loss: 0.0977 - accuracy: 0.9771 - val_loss: 0.0430 - val_accuracy: 0.9917 - lr: 0.0010\n",
      "Epoch 25/30\n",
      "439/439 [==============================] - ETA: 0s - loss: 0.0918 - accuracy: 0.9788WARNING:tensorflow:Learning rate reduction is conditioned on metric `val_acc` which is not available. Available metrics are: loss,accuracy,val_loss,val_accuracy,lr\n",
      "439/439 [==============================] - 19s 43ms/step - loss: 0.0918 - accuracy: 0.9788 - val_loss: 0.0472 - val_accuracy: 0.9907 - lr: 0.0010\n",
      "Epoch 26/30\n",
      "439/439 [==============================] - ETA: 0s - loss: 0.1050 - accuracy: 0.9761WARNING:tensorflow:Learning rate reduction is conditioned on metric `val_acc` which is not available. Available metrics are: loss,accuracy,val_loss,val_accuracy,lr\n",
      "439/439 [==============================] - 18s 42ms/step - loss: 0.1050 - accuracy: 0.9761 - val_loss: 0.0527 - val_accuracy: 0.9888 - lr: 0.0010\n",
      "Epoch 27/30\n",
      "438/439 [============================>.] - ETA: 0s - loss: 0.1048 - accuracy: 0.9764WARNING:tensorflow:Learning rate reduction is conditioned on metric `val_acc` which is not available. Available metrics are: loss,accuracy,val_loss,val_accuracy,lr\n",
      "439/439 [==============================] - 18s 41ms/step - loss: 0.1046 - accuracy: 0.9765 - val_loss: 0.0616 - val_accuracy: 0.9890 - lr: 0.0010\n",
      "Epoch 28/30\n",
      "439/439 [==============================] - ETA: 0s - loss: 0.1134 - accuracy: 0.9748WARNING:tensorflow:Learning rate reduction is conditioned on metric `val_acc` which is not available. Available metrics are: loss,accuracy,val_loss,val_accuracy,lr\n",
      "439/439 [==============================] - 18s 41ms/step - loss: 0.1134 - accuracy: 0.9748 - val_loss: 0.0472 - val_accuracy: 0.9902 - lr: 0.0010\n",
      "Epoch 29/30\n",
      "438/439 [============================>.] - ETA: 0s - loss: 0.1043 - accuracy: 0.9755WARNING:tensorflow:Learning rate reduction is conditioned on metric `val_acc` which is not available. Available metrics are: loss,accuracy,val_loss,val_accuracy,lr\n",
      "439/439 [==============================] - 18s 41ms/step - loss: 0.1043 - accuracy: 0.9755 - val_loss: 0.0452 - val_accuracy: 0.9907 - lr: 0.0010\n",
      "Epoch 30/30\n",
      "439/439 [==============================] - ETA: 0s - loss: 0.1061 - accuracy: 0.9753WARNING:tensorflow:Learning rate reduction is conditioned on metric `val_acc` which is not available. Available metrics are: loss,accuracy,val_loss,val_accuracy,lr\n",
      "439/439 [==============================] - 18s 41ms/step - loss: 0.1061 - accuracy: 0.9753 - val_loss: 0.0430 - val_accuracy: 0.9921 - lr: 0.0010\n"
     ]
    }
   ],
   "source": [
    "history = model.fit_generator(datagen.flow(X_train, Y_train, batch_size=batch_size),\n",
    "                              epochs=epochs, validation_data=(X_val, Y_val),\n",
    "                              verbose=1, steps_per_epoch=X_train.shape[0] // batch_size,\n",
    "                              callbacks=[learning_rate_reduction])"
   ]
  }
 ],
 "metadata": {
  "kernelspec": {
   "display_name": "ironhack",
   "language": "python",
   "name": "python3"
  },
  "language_info": {
   "codemirror_mode": {
    "name": "ipython",
    "version": 3
   },
   "file_extension": ".py",
   "mimetype": "text/x-python",
   "name": "python",
   "nbconvert_exporter": "python",
   "pygments_lexer": "ipython3",
   "version": "3.11.5"
  }
 },
 "nbformat": 4,
 "nbformat_minor": 2
}
